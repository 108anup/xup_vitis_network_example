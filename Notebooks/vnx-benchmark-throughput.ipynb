{
 "cells": [
  {
   "cell_type": "markdown",
   "metadata": {},
   "source": [
    "# Benchmark Throughput experiment (point to point)\n",
    "This notebook will show you how to measure the throughput between two Alveo nodes using the benchmark application with UDP as a transport protocol.\n",
    "We are going to rely on a Dask cluster to configure the local and remote Alveo cards.\n",
    "\n",
    "This notebook assumes:\n",
    "* Direct connection between the Alveo cards\n",
    "* Dask cluster is already created and running. For more information about setting up a Dask cluster visit the [Dask documentation](https://docs.dask.org/en/latest/setup.html)"
   ]
  },
  {
   "cell_type": "markdown",
   "metadata": {},
   "source": [
    "## Connect to the Dask cluster\n",
    "1. Connect to the Dask cluster\n",
    "1. Grab workers name\n",
    "1. Check if there are two workers available"
   ]
  },
  {
   "cell_type": "code",
   "execution_count": 1,
   "metadata": {},
   "outputs": [
    {
     "data": {
      "text/html": [
       "<table style=\"border: 2px solid white;\">\n",
       "<tr>\n",
       "<td style=\"vertical-align: top; border: 0px solid white\">\n",
       "<h3 style=\"text-align: left;\">Client</h3>\n",
       "<ul style=\"text-align: left; list-style: none; margin: 0; padding: 0;\">\n",
       "  <li><b>Scheduler: </b>tcp://10.1.212.126:8786</li>\n",
       "  <li><b>Dashboard: </b><a href='http://10.1.212.126:8787/status' target='_blank'>http://10.1.212.126:8787/status</a>\n",
       "</ul>\n",
       "</td>\n",
       "<td style=\"vertical-align: top; border: 0px solid white\">\n",
       "<h3 style=\"text-align: left;\">Cluster</h3>\n",
       "<ul style=\"text-align: left; list-style:none; margin: 0; padding: 0;\">\n",
       "  <li><b>Workers: </b>2</li>\n",
       "  <li><b>Cores: </b>32</li>\n",
       "  <li><b>Memory: </b>232.35 GB</li>\n",
       "</ul>\n",
       "</td>\n",
       "</tr>\n",
       "</table>"
      ],
      "text/plain": [
       "<Client: 'tcp://10.1.212.126:8786' processes=2 threads=32, memory=232.35 GB>"
      ]
     },
     "execution_count": 1,
     "metadata": {},
     "output_type": "execute_result"
    }
   ],
   "source": [
    "from dask.distributed import Client, get_client\n",
    "\n",
    "client = Client(\"tcp://10.1.212.126:8786\")\n",
    "client"
   ]
  },
  {
   "cell_type": "code",
   "execution_count": 2,
   "metadata": {},
   "outputs": [],
   "source": [
    "client_info = client.scheduler_info()['workers']\n",
    "workers = []\n",
    "for cli in client_info:\n",
    "    workers.append(client_info[cli]['name'])\n",
    "\n",
    "if len(workers) != 2:\n",
    "    print(\"Configure your Dask cluster with two workers\")"
   ]
  },
  {
   "cell_type": "markdown",
   "metadata": {},
   "source": [
    "## Basic remote functions\n",
    "In this part we are going to schedule a basic function to the workers to verify that we are able to pinpoint tasks to a particular worker, we are also going to grab the Alveo shell name.\n",
    "You should visually check that your xclbin file is built for the Alveo shell available on the workers."
   ]
  },
  {
   "cell_type": "code",
   "execution_count": 3,
   "metadata": {},
   "outputs": [
    {
     "name": "stdout",
     "output_type": "stream",
     "text": [
      "Worker name: alveo3b | shell version: \"xilinx_u280_xdma_201920_3\"\n",
      "Worker name: alveo3c | shell version: \"xilinx_u280_xdma_201920_3\"\n"
     ]
    }
   ],
   "source": [
    "import platform, os\n",
    "\n",
    "def verify_workers():\n",
    "    node_name = platform.node()\n",
    "    shell_version = os.popen(\"xbutil dump | grep dsa_name\").read()\n",
    "    #match = True\n",
    "    #if 'xilinx_u280_xdma_201920_3' not in shell_version:\n",
    "    #    match = False\n",
    "    return node_name, shell_version[24:-2]\n",
    "\n",
    "worker_0 = client.submit(verify_workers ,workers=workers[0], pure=False)\n",
    "worker_1 = client.submit(verify_workers ,workers=workers[1], pure=False)\n",
    "\n",
    "worker_check = [worker_0.result(),worker_1.result()]\n",
    "\n",
    "for w in worker_check:\n",
    "    print('Worker name: {} | shell version: {}'.format(w[0],w[1]))"
   ]
  },
  {
   "cell_type": "markdown",
   "metadata": {},
   "source": [
    "## Source Dask device and utilities\n",
    "\n",
    "In this section we will declare the Dask code that builds on top of the `pynq` framework. This piece of code allow us to:\n",
    "\n",
    "* Download a `xclbin` file to a worker\n",
    "* Peek and poke registers\n",
    "* Allocate buffers\n",
    "* Start kernels\n",
    "\n",
    "All of these capabilities are available for both local and remote workers"
   ]
  },
  {
   "cell_type": "code",
   "execution_count": 1,
   "metadata": {},
   "outputs": [
    {
     "data": {
      "application/javascript": [
       "\n",
       "try {\n",
       "require(['notebook/js/codecell'], function(codecell) {\n",
       "  codecell.CodeCell.options_default.highlight_modes[\n",
       "      'magic_text/x-csrc'] = {'reg':[/^%%microblaze/]};\n",
       "  Jupyter.notebook.events.one('kernel_ready.Kernel', function(){\n",
       "      Jupyter.notebook.get_cells().map(function(cell){\n",
       "          if (cell.cell_type == 'code'){ cell.auto_highlight(); } }) ;\n",
       "  });\n",
       "});\n",
       "} catch (e) {};\n"
      ]
     },
     "metadata": {},
     "output_type": "display_data"
    }
   ],
   "source": [
    "from vnx_utils import *\n",
    "import pynq\n",
    "import ctypes\n",
    "import tempfile\n",
    "import numpy as np\n",
    "import re\n",
    "from pynq.pl_server.xrt_device import XrtStream\n",
    "\n",
    "# Hold references to buffers to avoid them being collected\n",
    "# Won't be visible in the process but is an easy way to\n",
    "# let workers hold on to local references\n",
    "buffers = []\n",
    "\n",
    "# Functions that will be called in the context of dask\n",
    "def _invalidate(bo, offset, size):\n",
    "    buf = bytearray(size)\n",
    "    pynq.Device.active_device.invalidate(bo, offset, 0, size)\n",
    "    pynq.Device.active_device.buffer_read(bo, offset, buf)\n",
    "    return bytes(buf)\n",
    "\n",
    "def _flush(bo, offset, size, data):\n",
    "    pynq.Device.active_device.buffer_write(bo, offset, bytearray(data))\n",
    "    pynq.Device.active_device.flush(bo, offset, 0, size)\n",
    "    \n",
    "def _read_registers(address, length):\n",
    "    return pynq.Device.active_device.read_registers(address, length)\n",
    "\n",
    "def _write_registers(address, data):\n",
    "    pynq.Device.active_device.write_registers(address, data)\n",
    "    \n",
    "def _download(bitstream_data):\n",
    "    with tempfile.NamedTemporaryFile() as f:\n",
    "        f.write(bitstream_data)\n",
    "        f.flush()\n",
    "        ol = pynq.Overlay(f.name)\n",
    "\n",
    "def _alloc(size, memdesc):\n",
    "    mem = pynq.Device.active_device.get_memory(memdesc)\n",
    "    buf = mem.allocate((size,), 'u1')\n",
    "    buffers.append(buf)\n",
    "    return buf.bo, buf.device_address\n",
    "\n",
    "class DaskMemory:\n",
    "    \"\"\"Memory object proxied over dask\n",
    "    \n",
    "    \"\"\"\n",
    "    def __init__(self, device, desc):\n",
    "        self._desc = desc\n",
    "        self._device = device\n",
    "    \n",
    "    def allocate(self, shape, dtype):\n",
    "        from pynq.buffer import PynqBuffer\n",
    "        buf = PynqBuffer(shape, dtype, device_address=0,\n",
    "                         bo=0, device=self._device, coherent=False)\n",
    "        bo, addr = self._device._call_dask(_alloc, buf.nbytes, self._desc)\n",
    "        buf.bo = bo\n",
    "        buf.device_address = addr\n",
    "        return buf\n",
    "\n",
    "class DaskDevice(pynq.Device):\n",
    "    \"\"\"PYNQ Proxy device for using PYNQ via dask\n",
    "    \n",
    "    \"\"\"\n",
    "    def __init__(self, client, worker):\n",
    "        \"\"\"The worker ID should be unique\n",
    "        \n",
    "        \"\"\"\n",
    "        super().__init__(\"dask-\" + re.sub(r'[^\\w]', '_', worker))\n",
    "        self._dask_client = client\n",
    "        self._worker = worker\n",
    "        self.capabilities = {\n",
    "            'REGISTER_RW': True,\n",
    "            'CALLABLE': True\n",
    "        }\n",
    "        self._streams = {}\n",
    "        \n",
    "    def _call_dask(self, func, *args):\n",
    "        future = self._dask_client.submit(func, *args, workers=self._worker, pure=False)\n",
    "        return future.result()\n",
    "\n",
    "    def invalidate(self, bo, offset, ptr, size):\n",
    "        ctype = ctypes.c_uint8 * size\n",
    "        target = ctype.from_address(ptr)\n",
    "        target[:] = self._call_dask(_invalidate, bo, offset, size)\n",
    "        \n",
    "    def flush(self, bo, offset, ptr, size):\n",
    "        ctype = ctypes.c_uint8 * size\n",
    "        target = ctype.from_address(ptr)\n",
    "        self._call_dask(_flush, bo, offset, size, bytes(target))\n",
    "        \n",
    "    def read_registers(self, address, length):\n",
    "        return self._call_dask(_read_registers, address, length)\n",
    "    \n",
    "    def write_registers(self, address, data):\n",
    "        self._call_dask(_write_registers, address, bytes(data))\n",
    "        \n",
    "    def get_bitfile_metadata(self, bitfile_name):\n",
    "        return pynq.pl_server.xclbin_parser.XclBin(bitfile_name)\n",
    "    \n",
    "    def download(self, bitstream, parser=None):\n",
    "        with open(bitstream.bitfile_name, 'rb') as f:\n",
    "            bitstream_data = f.read()\n",
    "        self._call_dask(_download, bitstream_data)\n",
    "        super().post_download(bitstream, parser)\n",
    "    \n",
    "    def get_memory(self, desc):\n",
    "        if desc['streaming']:\n",
    "            if desc['idx'] not in self._streams:\n",
    "                self._streams[desc['idx']] = XrtStream(self, desc)\n",
    "            return self._streams[desc['idx']]\n",
    "        else:\n",
    "            return DaskMemory(self, desc)\n",
    "    \n",
    "    def get_memory_by_idx(self, idx):\n",
    "        for m in self.mem_dict.values():\n",
    "            if m['idx'] == idx:\n",
    "                return self.get_memory(m)\n",
    "        raise RuntimeError(\"Could not find memory\")"
   ]
  },
  {
   "cell_type": "markdown",
   "metadata": {},
   "source": [
    "## Download xclbin to workers\n",
    "1. Create Dask device for each worker\n",
    "2. Create an overlay object for each worker, this step will download the `xclbin` file to the Alveo card"
   ]
  },
  {
   "cell_type": "code",
   "execution_count": 5,
   "metadata": {},
   "outputs": [],
   "source": [
    "# daskdev_w0 = DaskDevice(client, workers[0])\n",
    "# daskdev_w1 = DaskDevice(client, workers[1])\n",
    "\n",
    "devices = pynq.Device.devices\n",
    "\n",
    "xclbin = '../benchmark.intf3.xilinx_u280_xdma_201920_3/vnx_benchmark_if3.xclbin'\n",
    "xclbin = '../benchmark.intf1.xilinx_u280_xdma_201920_3/vnx_benchmark_if1.xclbin'\n",
    "xclbin_sketch = \"/home/aliu/xclbins/count-sketch-emem/benchmark.intf1.sketch1_cs_r3_c10_e10_h4.xilinx_u280_xdma_201920_3/vnx_benchmark_if1.xclbin\"\n",
    "xclbin_sketch = \"/home/aliu/xclbins/univmon-le/benchmark.intf1.sketch1_univmon_l16_le16_r3_c8_e8_h2.xilinx_u280_xdma_201920_3/vnx_benchmark_if1.xclbin\"\n",
    "ol_w0 = pynq.Overlay(xclbin_sketch, device=devices[0])\n",
    "ol_w1 = pynq.Overlay(xclbin_sketch, device=devices[1])"
   ]
  },
  {
   "cell_type": "markdown",
   "metadata": {},
   "source": [
    "## Check Link \n",
    "\n",
    "We are going to use the function `linkStatus` that reports if the CMAC is detecting link, which means that the physical connection\n",
    "between the two Alveo cards is established."
   ]
  },
  {
   "cell_type": "code",
   "execution_count": 6,
   "metadata": {},
   "outputs": [
    {
     "name": "stdout",
     "output_type": "stream",
     "text": [
      "Link worker 0 {'cmac_link': True}; link worker 1 {'cmac_link': True}\n"
     ]
    }
   ],
   "source": [
    "print(\"Link worker 0 {}; link worker 1 {}\".format(ol_w0.cmac_1.linkStatus(),ol_w1.cmac_1.linkStatus()))"
   ]
  },
  {
   "cell_type": "markdown",
   "metadata": {},
   "source": [
    "### Configure remote Alveo card\n",
    "\n",
    "1. Set up IP address and MAC address\n",
    "2. Set up connection table\n",
    "3. Launch ARP discovery\n",
    "4. Print out ARP Table "
   ]
  },
  {
   "cell_type": "code",
   "execution_count": 7,
   "metadata": {},
   "outputs": [
    {
     "name": "stdout",
     "output_type": "stream",
     "text": [
      "{'HWaddr': '00:0a:35:02:9d:0a', 'inet addr': '192.168.0.10', 'gateway addr': '192.168.0.1', 'Mask': '255.255.255.0'}\n",
      "Position   5\tMAC address 00:0a:35:02:9d:e5\tIP address 192.168.0.5\n"
     ]
    }
   ],
   "source": [
    "print(ol_w1.networklayer_1.updateIPAddress('192.168.0.10', debug=True))\n",
    "#2\n",
    "ol_w1.networklayer_1.sockets[1] = ('192.168.0.5', 62177, 60512, True)\n",
    "ol_w1.networklayer_1.populateSocketTable()\n",
    "#3 \n",
    "ol_w1.networklayer_1.arpDiscovery()\n",
    "#4\n",
    "ol_w1.networklayer_1.readARPTable()"
   ]
  },
  {
   "cell_type": "markdown",
   "metadata": {},
   "source": [
    "### Configure local Alveo card\n",
    "\n",
    "1. Print out IP and MAC address\n",
    "2. Set up connection table\n",
    "3. Launch ARP discovery\n",
    "4. Print out ARP Table "
   ]
  },
  {
   "cell_type": "code",
   "execution_count": 8,
   "metadata": {},
   "outputs": [
    {
     "name": "stdout",
     "output_type": "stream",
     "text": [
      "{'HWaddr': '00:0a:35:02:9d:e5', 'inet addr': '192.168.0.5', 'gateway addr': '192.168.0.1', 'Mask': '255.255.255.0'}\n",
      "Position  10\tMAC address 00:0a:35:02:9d:0a\tIP address 192.168.0.10\n"
     ]
    }
   ],
   "source": [
    "print(ol_w0.networklayer_1.getNetworkInfo())\n",
    "#2\n",
    "ol_w0.networklayer_1.sockets[7] = ('192.168.0.10', 60512, 62177, True)\n",
    "ol_w0.networklayer_1.populateSocketTable()\n",
    "#3 \n",
    "ol_w0.networklayer_1.arpDiscovery()\n",
    "#4\n",
    "ol_w0.networklayer_1.readARPTable()"
   ]
  },
  {
   "cell_type": "markdown",
   "metadata": {},
   "source": [
    "## Configure application\n",
    "* Configure remote traffic generator 1 in `CONSUMER` mode"
   ]
  },
  {
   "cell_type": "code",
   "execution_count": 9,
   "metadata": {},
   "outputs": [],
   "source": [
    "ol_w1_tg = ol_w1.traffic_generator_1_1\n",
    "ol_w1_tg.register_map.debug_reset = 1\n",
    "ol_w1_tg.register_map.mode = benchmark_mode.index('CONSUMER')\n",
    "ol_w1_tg.register_map.CTRL.AP_START = 1"
   ]
  },
  {
   "cell_type": "code",
   "execution_count": 19,
   "metadata": {},
   "outputs": [],
   "source": [
    "import yaml\n",
    "num_packets = 1000_000"
   ]
  },
  {
   "cell_type": "code",
   "execution_count": 20,
   "metadata": {},
   "outputs": [],
   "source": [
    "manifests_file_path = \"../tools/manifests/ground_truth_univmon-emem.yml\"\n",
    "with open(manifests_file_path) as f:\n",
    "    manifests = yaml.safe_load(f)"
   ]
  },
  {
   "cell_type": "code",
   "execution_count": 21,
   "metadata": {},
   "outputs": [
    {
     "data": {
      "text/plain": [
       "{'frac': 1,\n",
       " 'hash_units': 2,\n",
       " 'logcols': 8,\n",
       " 'logcols_emem': 8,\n",
       " 'rows': 3,\n",
       " 'sketch_name': 'UNIVMON',\n",
       " 'thr': 1,\n",
       " 'univmon_levels': 16,\n",
       " 'univmon_levels_emem': 16}"
      ]
     },
     "execution_count": 21,
     "metadata": {},
     "output_type": "execute_result"
    }
   ],
   "source": [
    "sketch_manifest = manifests[0]['sketches'][0]\n",
    "sketch_manifest"
   ]
  },
  {
   "cell_type": "code",
   "execution_count": null,
   "metadata": {},
   "outputs": [],
   "source": []
  },
  {
   "cell_type": "code",
   "execution_count": null,
   "metadata": {},
   "outputs": [],
   "source": []
  },
  {
   "cell_type": "code",
   "execution_count": 22,
   "metadata": {},
   "outputs": [
    {
     "name": "stdout",
     "output_type": "stream",
     "text": [
      "Setting up memory buffers\n"
     ]
    }
   ],
   "source": [
    "# Checking if using gmem\n",
    "using_gmem = False\n",
    "sketch_buf = None\n",
    "sketch_wh = None\n",
    "if('logcols_emem' in sketch_manifest):\n",
    "    using_gmem = True\n",
    "    print(\"Setting up memory buffers\")\n",
    "    sketch_kernel = ol_w0.update_sketch_1\n",
    "    r = int(sketch_manifest['rows'])\n",
    "    lce = int(sketch_manifest['logcols_emem'])\n",
    "    ce = (1<<lce)\n",
    "    size = r * ce\n",
    "    shape = (r, ce)\n",
    "    if(sketch_manifest['sketch_name'] == 'UNIVMON'):\n",
    "        le = int(sketch_manifest['univmon_levels_emem'])\n",
    "        lc = int(sketch_manifest['logcols'])\n",
    "        assert(lc == lce)\n",
    "        size = r * le * ce\n",
    "        shape = (r, le, ce)\n",
    "    sketch_buf = pynq.allocate(shape, dtype=np.uint32, target=ol_w0.HBM1)\n",
    "    sketch_wh = sketch_kernel.start(sketch_buf, num_packets)"
   ]
  },
  {
   "cell_type": "code",
   "execution_count": 24,
   "metadata": {},
   "outputs": [],
   "source": [
    "sketch_buf.sync_from_device()"
   ]
  },
  {
   "cell_type": "code",
   "execution_count": 27,
   "metadata": {},
   "outputs": [],
   "source": [
    "sketch_buf.sync_to_device()"
   ]
  },
  {
   "cell_type": "code",
   "execution_count": null,
   "metadata": {},
   "outputs": [],
   "source": [
    "import numpy as np"
   ]
  },
  {
   "cell_type": "code",
   "execution_count": 31,
   "metadata": {},
   "outputs": [
    {
     "data": {
      "text/plain": [
       "50"
      ]
     },
     "execution_count": 31,
     "metadata": {},
     "output_type": "execute_result"
    }
   ],
   "source": [
    "np.count_nonzero(sketch_buf)"
   ]
  },
  {
   "cell_type": "code",
   "execution_count": 32,
   "metadata": {},
   "outputs": [
    {
     "data": {
      "text/plain": [
       "PynqBuffer(98784247813, dtype=uint64)"
      ]
     },
     "execution_count": 32,
     "metadata": {},
     "output_type": "execute_result"
    }
   ],
   "source": [
    "np.sum(sketch_buf)"
   ]
  },
  {
   "cell_type": "markdown",
   "metadata": {},
   "source": [
    "* Configure local traffic generator 1\n",
    "* Run the application for different packet sizes\n",
    "* Compute and store results for both local (Tx) and remote (Rx)"
   ]
  },
  {
   "cell_type": "code",
   "execution_count": 39,
   "metadata": {},
   "outputs": [
    {
     "data": {
      "text/plain": [
       "array([ 1,  1,  1, -1,  1, -1, -1, -1,  1, -1,  1,  1, -1,  1,  1, -1,  1,\n",
       "       -1, -1, -1,  1,  1, -1, -1, -1, -1,  1, -1,  1, -1,  1, -1, -1,  1,\n",
       "       -1,  1, -1, -1,  1,  1,  1,  1,  1,  2,  1,  1, -1,  1, -1,  1],\n",
       "      dtype=int32)"
      ]
     },
     "execution_count": 39,
     "metadata": {},
     "output_type": "execute_result"
    }
   ],
   "source": [
    "buf_arr = np.array(sketch_buf)\n",
    "buf_arr[buf_arr != 0].astype('int32')"
   ]
  },
  {
   "cell_type": "code",
   "execution_count": 23,
   "metadata": {},
   "outputs": [
    {
     "name": "stdout",
     "output_type": "stream",
     "text": [
      "Packets sent till now:  799\n",
      "Sent      1,000,000 size:   64-Byte done!\tGot      1,000,000 took   0.0771 sec, thr: 6.645 Gbps\n"
     ]
    }
   ],
   "source": [
    "import time\n",
    "freq = 292\n",
    "ol_w0_tg = ol_w0.traffic_generator_1_3\n",
    "experiment_dict = {}\n",
    "local_dict = {}\n",
    "ol_w0_tg.register_map.mode = benchmark_mode.index('PRODUCER')\n",
    "ol_w0_tg.register_map.dest_id = 7\n",
    "ol_w1_tg.freq = freq\n",
    "ol_w0_tg.freq = freq\n",
    "# for pkt in [1000000, 1000000000]:\n",
    "for pkt in [num_packets]:\n",
    "    ol_w0_tg.register_map.debug_reset = 1\n",
    "    ol_w1_tg.register_map.debug_reset = 1\n",
    "    ol_w0_tg.register_map.time_between_packets = 0\n",
    "    ol_w0_tg.register_map.number_packets = pkt\n",
    "    local_dict = {}\n",
    "    # for i in range(23):\n",
    "    for i in range(1):\n",
    "        beats = i + 1\n",
    "        ol_w0_tg.register_map.number_beats = beats\n",
    "        ol_w0_tg.register_map.CTRL.AP_START = 1\n",
    "        while int(ol_w0_tg.register_map.out_traffic_packets) != pkt:\n",
    "            print(\"Packets sent till now: \", int(ol_w0_tg.register_map.out_traffic_packets))\n",
    "            time.sleep(0.8)\n",
    "        # Get results from local and remote worker\n",
    "        rx_tot_pkt, rx_thr, rx_time = ol_w1_tg.computeThroughputApp('rx')\n",
    "        tx_tot_pkt, tx_thr, tx_time = ol_w0_tg.computeThroughputApp('tx')\n",
    "        #Create dict entry for this particular experiment\n",
    "        entry_dict = {'size': (beats * 64), 'rx_pkts' : rx_tot_pkt, 'tx_thr': tx_thr, 'rx_thr': rx_thr}\n",
    "        local_dict[beats] = entry_dict\n",
    "        # Reset probes to prepare for next computation\n",
    "        ol_w0_tg.resetProbes()\n",
    "        ol_w1_tg.resetProbes() \n",
    "        print(\"Sent {:14,} size: {:4}-Byte done!\\tGot {:14,} took {:8.4f} sec, thr: {:.3f} Gbps\"\\\n",
    "              .format(pkt,beats*64, rx_tot_pkt, rx_time, rx_thr))\n",
    "        time.sleep(0.5)\n",
    "    experiment_dict[pkt] = local_dict"
   ]
  },
  {
   "cell_type": "code",
   "execution_count": null,
   "metadata": {},
   "outputs": [],
   "source": []
  },
  {
   "cell_type": "code",
   "execution_count": null,
   "metadata": {},
   "outputs": [],
   "source": []
  },
  {
   "cell_type": "code",
   "execution_count": null,
   "metadata": {},
   "outputs": [],
   "source": []
  },
  {
   "cell_type": "markdown",
   "metadata": {},
   "source": [
    "## Plot the results\n",
    "Finally we can plot the results using matplotlib.\n",
    "\n",
    "Note that the throughput is around 3 % bigger than the theoretical, this is because the CMAC uses 4 lanes of 25.78125G each and in point to point there is no limiting equipment"
   ]
  },
  {
   "cell_type": "code",
   "execution_count": 10,
   "metadata": {},
   "outputs": [
    {
     "data": {
      "image/png": "[encoded data removed]",
      "text/plain": [
       "<Figure size 1332x504 with 1 Axes>"
      ]
     },
     "metadata": {
      "needs_background": "light"
     },
     "output_type": "display_data"
    }
   ],
   "source": [
    "%matplotlib inline\n",
    "import matplotlib.pyplot as plt\n",
    "\n",
    "dict_oneM = experiment_dict[1000000]\n",
    "dict_oneB = experiment_dict[1000000000]\n",
    "labels = []\n",
    "oneM_thr = []\n",
    "oneB_thr = []\n",
    "\n",
    "for b in dict_oneM:\n",
    "    labels.append(dict_oneM[b]['size'])\n",
    "    oneM_thr.append(dict_oneM[b]['rx_thr'])\n",
    "\n",
    "for b in dict_oneB:\n",
    "    oneB_thr.append(dict_oneB[b]['rx_thr'])\n",
    "\n",
    "x = np.arange(len(labels))  # the label locations\n",
    "width = 0.35  # the width of the bars\n",
    "\n",
    "fig, ax = plt.subplots()\n",
    "rects1 = ax.bar(x - width/2, oneM_thr, width, label='A Million Packets')\n",
    "rects2 = ax.bar(x + width/2, oneB_thr, width, label='A Billion Packets')\n",
    "\n",
    "# Add some text for labels, title and custom x-axis tick labels, etc.\n",
    "ax.set_ylabel('Throughput (Gbit/s)')\n",
    "ax.set_xlabel('Payload Size (Byte)')\n",
    "ax.set_title('Throughput for different packet size at application level')\n",
    "ax.set_xticks(x)\n",
    "ax.set_xticklabels(labels)\n",
    "ax.legend()\n",
    "ax.set_ylim(40,100)\n",
    "fig.set_size_inches(18.5, 7)\n",
    "plt.show()"
   ]
  },
  {
   "cell_type": "markdown",
   "metadata": {},
   "source": [
    "## Release Alveo cards\n",
    "To release the alveo cards the pynq overlay is freed"
   ]
  },
  {
   "cell_type": "code",
   "execution_count": 25,
   "metadata": {},
   "outputs": [],
   "source": [
    "pynq.Overlay.free(ol_w0)\n",
    "pynq.Overlay.free(ol_w1)"
   ]
  },
  {
   "cell_type": "markdown",
   "metadata": {},
   "source": [
    "------------------------------------------\n",
    "Copyright (c) 2020-2021, Xilinx, Inc."
   ]
  }
 ],
 "metadata": {
  "kernelspec": {
   "display_name": "Python 3",
   "language": "python",
   "name": "python3"
  },
  "language_info": {
   "codemirror_mode": {
    "name": "ipython",
    "version": 3
   },
   "file_extension": ".py",
   "mimetype": "text/x-python",
   "name": "python",
   "nbconvert_exporter": "python",
   "pygments_lexer": "ipython3",
   "version": "3.9.1"
  }
 },
 "nbformat": 4,
 "nbformat_minor": 4
}
