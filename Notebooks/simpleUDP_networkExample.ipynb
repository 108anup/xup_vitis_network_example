{
 "cells": [
  {
   "cell_type": "markdown",
   "metadata": {},
   "source": [
    "# Simple UDP application\n",
    "This notebook shows a simple UDP application with Network Support from Vitis using GT Kernels.\n",
    "There are 4 Kernels:\n",
    "* CMAC: provides the translation between physical signals to AXI4-Stream interface\n",
    "* Network layer: provides a bridge between raw Ethernet packets and the application using UDP as transport layer\n",
    "    * The UDP module has a 16-entry table with socket information that needs to be filled in before running\n",
    "* krnl_mm2s: reads data from memory and packetize it setting tdest and tlast appropriately\n",
    "* krnl_s2mm: read data from the stream and copy it to memory\n",
    "\n",
    "![](./../img/udp_network_basic.jpg)"
   ]
  },
  {
   "cell_type": "markdown",
   "metadata": {},
   "source": [
    "## Import packages and program FPGA"
   ]
  },
  {
   "cell_type": "code",
   "execution_count": 1,
   "metadata": {},
   "outputs": [
    {
     "data": {
      "application/javascript": [
       "\n",
       "try {\n",
       "require(['notebook/js/codecell'], function(codecell) {\n",
       "  codecell.CodeCell.options_default.highlight_modes[\n",
       "      'magic_text/x-csrc'] = {'reg':[/^%%microblaze/]};\n",
       "  Jupyter.notebook.events.one('kernel_ready.Kernel', function(){\n",
       "      Jupyter.notebook.get_cells().map(function(cell){\n",
       "          if (cell.cell_type == 'code'){ cell.auto_highlight(); } }) ;\n",
       "  });\n",
       "});\n",
       "} catch (e) {};\n"
      ]
     },
     "metadata": {},
     "output_type": "display_data"
    }
   ],
   "source": [
    "# Import packages and configure FPGA\n",
    "import pynq\n",
    "import numpy as np\n",
    "# import thread module \n",
    "from _thread import *\n",
    "import threading \n",
    "import socket\n",
    "currentDevice = pynq.Device.devices[2]\n",
    "ol = pynq.Overlay('../build_dir.intf0.xilinx_u280_xdma_201920_3/xup_vitis_networking.xclbin',device=currentDevice)"
   ]
  },
  {
   "cell_type": "markdown",
   "metadata": {},
   "source": [
    "## Run ping to get ARP set up\n",
    "Some of the attempts will fail but the remaining should work.\n",
    "* This notebook assumes that the local IP of your NIC is 192.168.0.25 and it was already configured"
   ]
  },
  {
   "cell_type": "code",
   "execution_count": 2,
   "metadata": {},
   "outputs": [
    {
     "name": "stdout",
     "output_type": "stream",
     "text": [
      "PING 192.168.0.5 (192.168.0.5) 56(84) bytes of data.\n",
      "64 bytes from 192.168.0.5: icmp_seq=3 ttl=128 time=0.111 ms\n",
      "64 bytes from 192.168.0.5: icmp_seq=4 ttl=128 time=0.048 ms\n",
      "64 bytes from 192.168.0.5: icmp_seq=5 ttl=128 time=0.037 ms\n",
      "\n",
      "--- 192.168.0.5 ping statistics ---\n",
      "5 packets transmitted, 3 received, 40% packet loss, time 3999ms\n",
      "rtt min/avg/max/mdev = 0.037/0.065/0.111/0.033 ms\n"
     ]
    }
   ],
   "source": [
    "!ping -c 5 192.168.0.5"
   ]
  },
  {
   "cell_type": "markdown",
   "metadata": {},
   "source": [
    "## Create software table with valid sockets and software socket variables"
   ]
  },
  {
   "cell_type": "code",
   "execution_count": 3,
   "metadata": {},
   "outputs": [],
   "source": [
    "socketType = np.dtype([('theirIP', np.uint32), ('theirPort', np.uint16), ('myPort', np.uint16), ('valid', np.bool)])\n",
    "sockets = np.zeros(16, dtype=socketType)\n",
    "sockets[0] = (0xC0A80019, 50446, 60133, True)\n",
    "sockets[1] = (0xC0A80019, 38746, 62781, True)\n",
    "\n",
    "FPGA_IP = '192.168.0.5'\n",
    "FPGA_PORT = sockets[1]['myPort']\n",
    "SW_PORT = sockets[1]['theirPort']"
   ]
  },
  {
   "cell_type": "markdown",
   "metadata": {},
   "source": [
    "## Transfer socket table to FPGA"
   ]
  },
  {
   "cell_type": "code",
   "execution_count": 4,
   "metadata": {},
   "outputs": [
    {
     "name": "stdout",
     "output_type": "stream",
     "text": [
      "Number of Sockets: 0\n",
      "HW socket table[  0], ti: 0xc0a80019\ttp: 50446\tmp: 60133\tv: 1\n",
      "HW socket table[  1], ti: 0xc0a80019\ttp: 38746\tmp: 62781\tv: 1\n",
      "HW socket table[  2], ti: 0x00000000\ttp:     0\tmp:     0\tv: 0\n",
      "HW socket table[  3], ti: 0x00000000\ttp:     0\tmp:     0\tv: 0\n",
      "HW socket table[  4], ti: 0x00000000\ttp:     0\tmp:     0\tv: 0\n",
      "HW socket table[  5], ti: 0x00000000\ttp:     0\tmp:     0\tv: 0\n",
      "HW socket table[  6], ti: 0x00000000\ttp:     0\tmp:     0\tv: 0\n",
      "HW socket table[  7], ti: 0x00000000\ttp:     0\tmp:     0\tv: 0\n",
      "HW socket table[  8], ti: 0x00000000\ttp:     0\tmp:     0\tv: 0\n",
      "HW socket table[  9], ti: 0x00000000\ttp:     0\tmp:     0\tv: 0\n",
      "HW socket table[ 10], ti: 0x00000000\ttp:     0\tmp:     0\tv: 0\n",
      "HW socket table[ 11], ti: 0x00000000\ttp:     0\tmp:     0\tv: 0\n",
      "HW socket table[ 12], ti: 0x00000000\ttp:     0\tmp:     0\tv: 0\n",
      "HW socket table[ 13], ti: 0x00000000\ttp:     0\tmp:     0\tv: 0\n",
      "HW socket table[ 14], ti: 0x00000000\ttp:     0\tmp:     0\tv: 0\n",
      "HW socket table[ 15], ti: 0x00000000\ttp:     0\tmp:     0\tv: 0\n"
     ]
    }
   ],
   "source": [
    "from pynq import MMIO\n",
    "def initSocketTable(ol, sockets, debug = False):\n",
    "    global currentDevice\n",
    "    network_address = ol.ip_dict[\"networklayer_1\"][\"phys_addr\"]\n",
    "    udp_address_offset = ol.ip_dict[\"networklayer_1\"][\"registers\"][\"udp_offset\"][\"address_offset\"]\n",
    "    udp_phy_address = network_address + udp_address_offset\n",
    "    udp_handler = MMIO(udp_phy_address, 0x1000, device=currentDevice)\n",
    "    # Get maximum number of sockets in hardware\n",
    "    numSocketsHW = udp_handler.read(0x210)\n",
    "    if (numSocketsHW is not len(sockets)):\n",
    "        raise Exception('Socket list length ({}) is not equal to maximum number of sockets in hardware ({})'.format(len(sockets),numSocketsHW))\n",
    "    \n",
    "    \n",
    "    for i in range(len(sockets)):\n",
    "        ti_offset = 0x10 + i*8\n",
    "        tp_offset = ti_offset + len(sockets) * 8\n",
    "        mp_offset = ti_offset + len(sockets) * 8 * 2\n",
    "        v_offset  = ti_offset + len(sockets) * 8 * 3\n",
    "        \n",
    "        udp_handler.write(ti_offset, int(sockets[i]['theirIP']))\n",
    "        udp_handler.write(tp_offset, int(sockets[i]['theirPort']))\n",
    "        udp_handler.write(mp_offset, int(sockets[i]['myPort']))\n",
    "        udp_handler.write(v_offset , int(sockets[i]['valid']))\n",
    "        \n",
    "\n",
    "    if debug:\n",
    "        print(\"Number of Sockets: {}\" .format(udp_handler.read(0x2d0)))\n",
    "        for i in range(len(sockets)):\n",
    "            #print(sockets[i])\n",
    "            ti_offset = 0x10 + i*8\n",
    "            tp_offset = ti_offset + len(sockets) * 8\n",
    "            mp_offset = ti_offset + len(sockets) * 8 * 2\n",
    "            v_offset  = ti_offset + len(sockets) * 8 * 3\n",
    "\n",
    "            ti = udp_handler.read(ti_offset)\n",
    "            tp = udp_handler.read(tp_offset)\n",
    "            mp = udp_handler.read(mp_offset)\n",
    "            v  = udp_handler.read(v_offset)\n",
    "            \n",
    "            print(\"HW socket table[{:3d}], ti: 0x{:08x}\\ttp: {:5d}\\tmp: {:5d}\\tv: {:1d}\".format(i,ti,tp,mp,v))\n",
    "    \n",
    "  \n",
    "initSocketTable(ol,sockets, True)"
   ]
  },
  {
   "cell_type": "markdown",
   "metadata": {},
   "source": [
    "## Get design handlers"
   ]
  },
  {
   "cell_type": "code",
   "execution_count": 5,
   "metadata": {},
   "outputs": [],
   "source": [
    "network_layer = ol.networklayer_1\n",
    "mm2s = ol.krnl_mm2s_1\n",
    "s2mm = ol.krnl_s2mm_1"
   ]
  },
  {
   "cell_type": "markdown",
   "metadata": {},
   "source": [
    "## Bind software socket"
   ]
  },
  {
   "cell_type": "code",
   "execution_count": 6,
   "metadata": {},
   "outputs": [],
   "source": [
    "sock = socket.socket(socket.AF_INET, socket.SOCK_DGRAM) # UDP\n",
    "sock.bind(('', SW_PORT))"
   ]
  },
  {
   "cell_type": "markdown",
   "metadata": {},
   "source": [
    "## Allocate buffers and initialize input"
   ]
  },
  {
   "cell_type": "code",
   "execution_count": 7,
   "metadata": {},
   "outputs": [],
   "source": [
    "size = 1408 * 100\n",
    "shape = (size,1)\n",
    "\n",
    "mm2s_buf = pynq.allocate(shape, dtype=np.uint8, target=ol.HBM0)\n",
    "s2mm_buf = pynq.allocate(shape, dtype=np.uint8, target=ol.HBM0)\n",
    "mm2s_buf[:] = np.random.randint(low=0, high=((2**8)-1), size=shape, dtype=np.uint8)"
   ]
  },
  {
   "cell_type": "markdown",
   "metadata": {},
   "source": [
    "## Move data from the HOST through the network\n",
    "* Start kernel stream to memory mapped\n",
    "* Send as many packets as necessary\n",
    "* The FPGA will receive the data copy it to global memory"
   ]
  },
  {
   "cell_type": "code",
   "execution_count": 8,
   "metadata": {},
   "outputs": [],
   "source": [
    "s2mm_wh = s2mm.start(s2mm_buf,size)\n",
    "udp_message_global = np.random.randint(low=0, high=((2**8)-1), size=shape, dtype=np.uint8)\n",
    "BYTES_PER_PACKET = 1408\n",
    "num_pkts = size//BYTES_PER_PACKET\n",
    "for m in range(num_pkts):\n",
    "    udp_message_local = udp_message_global[(m * BYTES_PER_PACKET) : ((m * BYTES_PER_PACKET) + BYTES_PER_PACKET)]\n",
    "    sock.sendto(udp_message_local, (FPGA_IP, FPGA_PORT))"
   ]
  },
  {
   "cell_type": "markdown",
   "metadata": {},
   "source": [
    "### Wait for kernel completion\n",
    "* Move data from global memory to HOST\n",
    "* Compare what was sent against what was received and print out result"
   ]
  },
  {
   "cell_type": "code",
   "execution_count": 9,
   "metadata": {},
   "outputs": [
    {
     "name": "stdout",
     "output_type": "stream",
     "text": [
      "Host sending data through the network and the host getting data from kernel was a: SUCCESS!. Total data transmitted 140,800 bytes to ('192.168.0.5', 62781)\n"
     ]
    }
   ],
   "source": [
    "s2mm_wh.wait()\n",
    "s2mm_buf.sync_from_device()\n",
    "\n",
    "msg = \"SUCCESS!\" if np.array_equal(udp_message_global, s2mm_buf) else \"FAILURE!\"\n",
    "print(\"Host sending data through the network and the host getting data from kernel was a: {}. Total data transmitted {:,} bytes to {}\" .format(msg,size,(FPGA_IP, FPGA_PORT)))"
   ]
  },
  {
   "cell_type": "markdown",
   "metadata": {},
   "source": [
    "## Create threaded function to receive data from the network"
   ]
  },
  {
   "cell_type": "code",
   "execution_count": 10,
   "metadata": {},
   "outputs": [],
   "source": [
    "print_lock = threading.Lock() \n",
    "# thread function \n",
    "def socket_receive_threaded(sock, size): \n",
    "    BYTES_PER_PACKET = 1408\n",
    "    shape_global = (size,1)\n",
    "    shape_local = (BYTES_PER_PACKET,1)\n",
    "    recv_data_global = np.empty(shape_global, dtype = np.uint8)\n",
    "    data_partial = np.empty(shape_local, dtype = np.uint8)\n",
    "    num_it = (size // BYTES_PER_PACKET)\n",
    "    global mm2s_buf\n",
    "    sum_bytes = 0\n",
    "    connection = 'None'\n",
    "    for m in range(num_it):\n",
    "        res = sock.recvfrom_into(data_partial) \n",
    "        recv_data_global[(m * BYTES_PER_PACKET) : ((m * BYTES_PER_PACKET) + BYTES_PER_PACKET)] = data_partial\n",
    "        sum_bytes = sum_bytes + int(res[0])\n",
    "        connection = res[1]\n",
    "    msg = \"SUCCESS!\" if np.array_equal(mm2s_buf, recv_data_global) else \"FAILURE!\"\n",
    "    print (\"Kernel sending data to the network and the host getting data from network was a: {}. Total data received {:,} bytes from {}\".format(msg,sum_bytes,connection))\n"
   ]
  },
  {
   "cell_type": "markdown",
   "metadata": {},
   "source": [
    "## Move data from the HOST through PCIE to the FPGA which will send it to the network\n",
    "* Move HOST memory to FPGA global memory\n",
    "* Lock acquired by client \n",
    "* Launch threaded function\n",
    "* Start kernel memory mapped to stream kernel\n",
    "* Threaded function will start receiving data and it will print out result once ALL data was collected"
   ]
  },
  {
   "cell_type": "code",
   "execution_count": 11,
   "metadata": {},
   "outputs": [
    {
     "name": "stdout",
     "output_type": "stream",
     "text": [
      "Kernel sending data to the network and the host getting data from network was a: SUCCESS!. Total data received 140,800 bytes from ('192.168.0.5', 62781)\n"
     ]
    }
   ],
   "source": [
    "mm2s_buf.sync_to_device()\n",
    "print_lock.acquire() \n",
    "start_new_thread(socket_receive_threaded, (sock,size,))\n",
    "mm2s_wh = mm2s.start(mm2s_buf,size, 1)"
   ]
  },
  {
   "cell_type": "markdown",
   "metadata": {},
   "source": [
    "## Delete buffers and free Alveo"
   ]
  },
  {
   "cell_type": "code",
   "execution_count": 12,
   "metadata": {},
   "outputs": [],
   "source": [
    "del mm2s_buf\n",
    "del s2mm_buf\n",
    "del udp_message_global\n",
    "pynq.Overlay.free(ol)"
   ]
  }
 ],
 "metadata": {
  "kernelspec": {
   "display_name": "Python 3",
   "language": "python",
   "name": "python3"
  },
  "language_info": {
   "codemirror_mode": {
    "name": "ipython",
    "version": 3
   },
   "file_extension": ".py",
   "mimetype": "text/x-python",
   "name": "python",
   "nbconvert_exporter": "python",
   "pygments_lexer": "ipython3",
   "version": "3.7.4"
  }
 },
 "nbformat": 4,
 "nbformat_minor": 4
}
